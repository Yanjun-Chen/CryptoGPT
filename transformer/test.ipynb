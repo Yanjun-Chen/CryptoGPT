{
 "cells": [
  {
   "cell_type": "code",
   "execution_count": 6,
   "metadata": {},
   "outputs": [],
   "source": [
    "import torch\n",
    "\n",
    "\n",
    "def apply_rotary(x, sinusoidal_pos=None):\n",
    "    if sinusoidal_pos is None:\n",
    "        return x\n",
    "    sin, cos = sinusoidal_pos\n",
    "    # x.shape [batch, seq_len, 2]\n",
    "    x1, x2 = x[..., 0::2], x[..., 1::2]\n",
    "    # [cos_nθ, -sin_nθ] [x1]\n",
    "    # [sin_nθ,  cos_nθ] [x2]\n",
    "    # => [x1 * cos_nθ - x2 * sin_nθ, x1 * sin_nθ + x2 * cos_nθ]\n",
    "    # 苏神的rotary，使用了下面的计算方法。\n",
    "    # return torch.stack([x1 * cos - x2 * sin, x1 * sin + x2 * cos], dim=-1).flatten(-2, -1)\n",
    "    # 考虑到矩阵乘法torch.einsum(\"bhmd,bhnd->bhmn\", q, k)，因此可以直接在最后一个维度拼接（无需奇偶交错）\n",
    "    return torch.cat([x1 * cos - x2 * sin, x1 * sin + x2 * cos], dim=-1)"
   ]
  },
  {
   "cell_type": "code",
   "execution_count": 18,
   "metadata": {},
   "outputs": [
    {
     "data": {
      "text/plain": [
       "array([[8.41470985e-01, 7.56337270e-01, 6.71063461e-01, 5.89918049e-01,\n",
       "        5.15138753e-01, 4.47670835e-01, 3.87674234e-01, 3.34858341e-01,\n",
       "        2.88695896e-01, 2.48555475e-01, 2.13780666e-01, 1.83735178e-01,\n",
       "        1.57826640e-01, 1.35517378e-01, 1.16327471e-01, 9.98334166e-02,\n",
       "        8.56644690e-02, 7.34978922e-02, 6.30538780e-02, 5.40905416e-02,\n",
       "        4.63992235e-02, 3.98002019e-02, 3.41388540e-02, 2.92822593e-02,\n",
       "        2.51162229e-02, 2.15426803e-02, 1.84774464e-02, 1.58482684e-02,\n",
       "        1.35931453e-02, 1.16588799e-02, 9.99983333e-03, 8.57685383e-03,\n",
       "        7.35635619e-03, 6.30953158e-03, 5.41166885e-03, 4.64157217e-03,\n",
       "        3.98106119e-03, 3.41454224e-03, 2.92864038e-03, 2.51188379e-03,\n",
       "        2.15443302e-03, 1.84784875e-03, 1.58489253e-03, 1.35935597e-03,\n",
       "        1.16591414e-03, 9.99999833e-04, 8.57695793e-04, 7.35642188e-04,\n",
       "        6.30957303e-04, 5.41169500e-04, 4.64158867e-04, 3.98107160e-04,\n",
       "        3.41454881e-04, 2.92864452e-04, 2.51188641e-04, 2.15443467e-04,\n",
       "        1.84784979e-04, 1.58489319e-04, 1.35935639e-04, 1.16591440e-04]])"
      ]
     },
     "execution_count": 18,
     "metadata": {},
     "output_type": "execute_result"
    }
   ],
   "source": [
    "import numpy as np\n",
    "\n",
    "dim = 120\n",
    "\n"
   ]
  },
  {
   "cell_type": "code",
   "execution_count": 15,
   "metadata": {},
   "outputs": [
    {
     "data": {
      "text/plain": [
       "4"
      ]
     },
     "execution_count": 15,
     "metadata": {},
     "output_type": "execute_result"
    }
   ],
   "source": [
    "2 ** 2"
   ]
  },
  {
   "cell_type": "code",
   "execution_count": null,
   "metadata": {},
   "outputs": [],
   "source": []
  },
  {
   "cell_type": "code",
   "execution_count": 52,
   "metadata": {},
   "outputs": [],
   "source": [
    "class RotaryPositionalEmbeddings(nn.Module):\n",
    "    \"\"\" \n",
    "    TODO: Implement RoPE introduced in the paper RoFormer: Enhanced Transformer with Rotary Position Embedding.\n",
    "    Reference: https://arxiv.org/abs/2104.09864\n",
    "    You will be implementing equation 34 in the paper (the computationally efficient form of the rotary matrix\n",
    "    as covered in recitation).\n",
    "    Refer to the \"Example: Converting Math to PyTorch Code\" slide from recitation if you need help translating \n",
    "    the equation into code.\n",
    "    \"\"\"\n",
    "\n",
    "    def __init__(self, d: int, base: int = 10_000):\n",
    "        super().__init__()\n",
    "        assert d % 2 == 0\n",
    "        self.base = base\n",
    "        self.d = d\n",
    "\n",
    "        self.position_encoding = 1.0 / (base ** ((torch.arange(1, self.d // 2 + 1).float() - 1) * 2 / dim))\n",
    "        \n",
    "        self.seq_len = None\n",
    "        self.cos = None\n",
    "        self.sin = None\n",
    "        \n",
    "    def _build_cache(self, x: torch.Tensor):\n",
    "        \"\"\"\n",
    "        Compute the fixed variables that do not change during training (see recitation for more details).\n",
    "        \"\"\"\n",
    "\n",
    "        self.seq_len = x.shape[-2]\n",
    "        t = torch.arange(1, self.seq_len+1, device=x.device).type_as(self.position_encoding)\n",
    "        emb = torch.einsum(\"i,j->ij\", t, self.position_encoding)\n",
    "        self.cos = emb.cos().view(1, 1, self.seq_len, self.d //2 )\n",
    "        self.sin = emb.sin().view(1, 1, self.seq_len, self.d //2 )\n",
    "\n",
    "        return self.cos, self.sin\n",
    "\n",
    "    def forward(self, x: torch.Tensor):\n",
    "        \"\"\"\n",
    "        Perform the forward pass with the input x, following equation 34 in the paper.\n",
    "        \"\"\"\n",
    "\n",
    "        if x.shape[-2] != self.seq_len:\n",
    "            self._build_cache(x)\n",
    "        return self.cos, self.sin\n",
    "\n"
   ]
  },
  {
   "cell_type": "code",
   "execution_count": 60,
   "metadata": {},
   "outputs": [
    {
     "name": "stdout",
     "output_type": "stream",
     "text": [
      "torch.Size([4, 3, 10, 16])\n",
      "torch.Size([1, 1, 10, 8])\n",
      "torch.Size([4, 3, 10, 16])\n"
     ]
    }
   ],
   "source": [
    "embedding_dim = 16\n",
    "seq_len = 10\n",
    "batch_size = 4\n",
    "head_num = 3\n",
    "\n",
    "rotary_positional_embeddings = RotaryPositionalEmbeddings(embedding_dim)\n",
    "\n",
    "# Create a dummy input tensor\n",
    "input_features = torch.rand((batch_size, head_num, seq_len, embedding_dim))\n",
    "\n",
    "# Forward pass\n",
    "cos, sin = rotary_positional_embeddings(input_features)\n",
    "\n",
    "\n",
    "\n",
    "x1, x2 = input_features[..., 0::2], input_features[..., 1::2]\n",
    "output =  torch.cat([x1 * cos - x2 * sin, x1 * sin + x2 * cos], dim=-1)\n",
    "\n",
    "\n",
    "print(input_features.shape)\n",
    "print(cos.shape)\n",
    "print(output.shape)\n",
    "        "
   ]
  },
  {
   "cell_type": "code",
   "execution_count": 58,
   "metadata": {},
   "outputs": [
    {
     "data": {
      "text/plain": [
       "tensor([0.0000, 0.0200, 0.0400, 0.0600, 0.0800, 0.1000, 0.1200, 0.1400, 0.1600,\n",
       "        0.1800, 0.2000, 0.2200, 0.2400, 0.2600, 0.2800, 0.3000, 0.3200, 0.3400,\n",
       "        0.3600, 0.3800, 0.4000, 0.4200, 0.4400, 0.4600, 0.4800, 0.5000, 0.5200,\n",
       "        0.5400, 0.5600, 0.5800, 0.6000, 0.6200, 0.6400, 0.6600, 0.6800, 0.7000,\n",
       "        0.7200, 0.7400, 0.7600, 0.7800, 0.8000, 0.8200, 0.8400, 0.8600, 0.8800,\n",
       "        0.9000, 0.9200, 0.9400, 0.9600, 0.9800])"
      ]
     },
     "execution_count": 58,
     "metadata": {},
     "output_type": "execute_result"
    }
   ],
   "source": [
    "dim = 100\n",
    "base = 10000\n",
    "\n",
    "(torch.arange(1, dim // 2 + 1).float() - 1) * 2 / dim\n",
    "# ((torch.arange(1, self.d // 2 + 1).float() - 1) * 2\n",
    "1.0 / (base ** ((torch.arange(1, self.d // 2 + 1).float() - 1) * 2 / self.d))\n",
    "\n"
   ]
  },
  {
   "cell_type": "code",
   "execution_count": null,
   "metadata": {},
   "outputs": [],
   "source": [
    "class RotaryPositionalEmbedding(torch.nn.Module):\n",
    "    def __init__(self, dim, base=10000, precision=torch.half):\n",
    "        \"\"\"Rotary positional embedding\n",
    "        Reference : https://blog.eleuther.ai/rotary-embeddings/\n",
    "        Paper: https://arxiv.org/pdf/2104.09864.pdf\n",
    "        Args:\n",
    "            dim: Dimension of embedding\n",
    "            base: Base value for exponential\n",
    "            precision: precision to use for numerical values\n",
    "        \"\"\"\n",
    "        super().__init__()\n",
    "        inv_freq = 1.0 / (base ** (torch.arange(0, dim, 2).float() / dim))\n",
    "        self.register_buffer(\"inv_freq\", inv_freq)\n",
    "        self.seq_len_cached = None\n",
    "        self.cos_cached = None\n",
    "        self.sin_cached = None\n",
    "        self.precision = precision\n",
    "\n",
    "    def forward(self, x, seq_len=None):\n",
    "        \"\"\"\n",
    "        Args:\n",
    "            x: Input x with T X B X C\n",
    "            seq_len: Sequence length of input x\n",
    "        \"\"\"\n",
    "        if seq_len != self.seq_len_cached:\n",
    "            self.seq_len_cached = seq_len\n",
    "            t = torch.arange(seq_len, device=x.device).type_as(self.inv_freq)\n",
    "            freqs = torch.einsum(\"i,j->ij\", t, self.inv_freq)\n",
    "            emb = torch.cat((freqs, freqs), dim=-1).to(x.device)\n",
    "            self.cos_cached = emb.cos()[:, None, None, :]\n",
    "            self.sin_cached = emb.sin()[:, None, None, :]\n",
    "        return self.cos_cached, self.sin_cached"
   ]
  },
  {
   "cell_type": "code",
   "execution_count": 29,
   "metadata": {},
   "outputs": [
    {
     "data": {
      "text/plain": [
       "tensor([ 1,  3,  5,  7,  9, 11, 13, 15, 17, 19, 21, 23, 25, 27, 29, 31, 33, 35,\n",
       "        37, 39, 41, 43, 45, 47, 49, 51, 53, 55, 57, 59, 61, 63, 65, 67, 69, 71,\n",
       "        73, 75, 77, 79, 81, 83, 85, 87, 89, 91, 93, 95, 97, 99])"
      ]
     },
     "execution_count": 29,
     "metadata": {},
     "output_type": "execute_result"
    }
   ],
   "source": [
    "dim = 100\n",
    "base = 10000\n",
    "\n",
    "torch.arange(1, dim+1, 2)\n",
    "# base ** (torch.arange(0, dim, 2).float() / dim)\n",
    "# 1.0 / (base ** (torch.arange(0, dim, 2).float() / dim))"
   ]
  },
  {
   "cell_type": "code",
   "execution_count": 31,
   "metadata": {},
   "outputs": [
    {
     "data": {
      "text/plain": [
       "tensor([1.0000e+00, 8.3176e-01, 6.9183e-01, 5.7544e-01, 4.7863e-01, 3.9811e-01,\n",
       "        3.3113e-01, 2.7542e-01, 2.2909e-01, 1.9055e-01, 1.5849e-01, 1.3183e-01,\n",
       "        1.0965e-01, 9.1201e-02, 7.5858e-02, 6.3096e-02, 5.2481e-02, 4.3652e-02,\n",
       "        3.6308e-02, 3.0200e-02, 2.5119e-02, 2.0893e-02, 1.7378e-02, 1.4454e-02,\n",
       "        1.2023e-02, 1.0000e-02, 8.3176e-03, 6.9183e-03, 5.7544e-03, 4.7863e-03,\n",
       "        3.9811e-03, 3.3113e-03, 2.7542e-03, 2.2909e-03, 1.9055e-03, 1.5849e-03,\n",
       "        1.3183e-03, 1.0965e-03, 9.1201e-04, 7.5858e-04, 6.3096e-04, 5.2481e-04,\n",
       "        4.3652e-04, 3.6308e-04, 3.0200e-04, 2.5119e-04, 2.0893e-04, 1.7378e-04,\n",
       "        1.4454e-04, 1.2023e-04])"
      ]
     },
     "execution_count": 31,
     "metadata": {},
     "output_type": "execute_result"
    }
   ],
   "source": [
    "inv_freq = 1.0 / (base ** (torch.arange(0, dim, 2).float() / dim))\n",
    "inv_freq"
   ]
  },
  {
   "cell_type": "code",
   "execution_count": 41,
   "metadata": {},
   "outputs": [
    {
     "data": {
      "text/plain": [
       "torch.Size([10, 50])"
      ]
     },
     "execution_count": 41,
     "metadata": {},
     "output_type": "execute_result"
    }
   ],
   "source": [
    "inv_freq = 1.0 / (base ** (torch.arange(0, dim, 2).float() / dim))\n",
    "t = torch.arange(1, seq_len+1).type_as(inv_freq)\n",
    "# t\n",
    "\n",
    "\n",
    "freqs = torch.einsum(\"i,j->ij\", t, inv_freq)\n",
    "freqs\n",
    "freqs.shape\n",
    "# t.shape\n",
    "# inv_freq.shape\n"
   ]
  },
  {
   "cell_type": "code",
   "execution_count": 45,
   "metadata": {},
   "outputs": [
    {
     "data": {
      "text/plain": [
       "torch.Size([10, 50])"
      ]
     },
     "execution_count": 45,
     "metadata": {},
     "output_type": "execute_result"
    }
   ],
   "source": [
    "emb = freqs\n",
    "emb.shape"
   ]
  },
  {
   "cell_type": "code",
   "execution_count": 44,
   "metadata": {},
   "outputs": [
    {
     "data": {
      "text/plain": [
       "torch.Size([10, 1, 1, 100])"
      ]
     },
     "execution_count": 44,
     "metadata": {},
     "output_type": "execute_result"
    }
   ],
   "source": [
    "cos_cached = emb.cos()[:, None, None, :]\n",
    "cos_cached.shape"
   ]
  },
  {
   "cell_type": "code",
   "execution_count": 46,
   "metadata": {},
   "outputs": [
    {
     "ename": "RuntimeError",
     "evalue": "The size of tensor a (10) must match the size of tensor b (50) at non-singleton dimension 0",
     "output_type": "error",
     "traceback": [
      "\u001b[0;31m---------------------------------------------------------------------------\u001b[0m",
      "\u001b[0;31mRuntimeError\u001b[0m                              Traceback (most recent call last)",
      "Cell \u001b[0;32mIn[46], line 1\u001b[0m\n\u001b[0;32m----> 1\u001b[0m z \u001b[39m=\u001b[39m t \u001b[39m*\u001b[39;49m inv_freq\n\u001b[1;32m      2\u001b[0m z\u001b[39m.\u001b[39mshape\n",
      "\u001b[0;31mRuntimeError\u001b[0m: The size of tensor a (10) must match the size of tensor b (50) at non-singleton dimension 0"
     ]
    }
   ],
   "source": [
    "z = t * inv_freq\n",
    "z.shape"
   ]
  },
  {
   "cell_type": "code",
   "execution_count": null,
   "metadata": {},
   "outputs": [],
   "source": [
    "# Create a dummy input tensor\n",
    "input_features = torch.rand((10, 5, 10, 50))"
   ]
  },
  {
   "attachments": {},
   "cell_type": "markdown",
   "metadata": {},
   "source": [
    "## Graph\n"
   ]
  },
  {
   "attachments": {},
   "cell_type": "markdown",
   "metadata": {},
   "source": [
    "### 4.1\n"
   ]
  },
  {
   "cell_type": "code",
   "execution_count": null,
   "metadata": {},
   "outputs": [],
   "source": [
    "import json\n",
    "import matplotlib.pyplot as plt\n",
    "\n",
    "path = \"/Users/yanjun/Documents/Chen/Master/24_Spring/GenAI/hw1/handout/out/4_1/train_logs.json\"\n",
    "\n",
    "# Load JSON data\n",
    "data = json.loads(json_data)\n",
    "\n",
    "# Extract the list of train_losses\n",
    "train_losses = data[\"train_losses\"]\n",
    "\n",
    "# Plotting the line chart\n",
    "plt.plot(train_losses, marker='o')\n",
    "plt.title('Train Losses')\n",
    "plt.xlabel('Epoch')\n",
    "plt.ylabel('Loss')\n",
    "plt.grid(True)\n",
    "plt.show()\n"
   ]
  }
 ],
 "metadata": {
  "kernelspec": {
   "display_name": "Python 3",
   "language": "python",
   "name": "python3"
  },
  "language_info": {
   "codemirror_mode": {
    "name": "ipython",
    "version": 3
   },
   "file_extension": ".py",
   "mimetype": "text/x-python",
   "name": "python",
   "nbconvert_exporter": "python",
   "pygments_lexer": "ipython3",
   "version": "3.10.9"
  },
  "vscode": {
   "interpreter": {
    "hash": "9d129898554ec5c021142407dfbdea4654f6407e5cfdbfcb112c98c6eb591438"
   }
  }
 },
 "nbformat": 4,
 "nbformat_minor": 2
}
